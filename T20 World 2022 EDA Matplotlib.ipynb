{
 "cells": [
  {
   "cell_type": "markdown",
   "id": "27db0c5d",
   "metadata": {},
   "source": [
    "# T20 WorldCup 2022 EDA Using Matplotlib."
   ]
  },
  {
   "cell_type": "code",
   "execution_count": 98,
   "id": "fc30433e",
   "metadata": {},
   "outputs": [],
   "source": [
    "import pandas as pd\n",
    "import numpy as np\n",
    "import seaborn as sns\n",
    "from matplotlib import pyplot as plt\n",
    "%matplotlib inline"
   ]
  },
  {
   "cell_type": "code",
   "execution_count": 2,
   "id": "7f29f34b",
   "metadata": {
    "scrolled": false
   },
   "outputs": [
    {
     "data": {
      "text/html": [
       "<div>\n",
       "<style scoped>\n",
       "    .dataframe tbody tr th:only-of-type {\n",
       "        vertical-align: middle;\n",
       "    }\n",
       "\n",
       "    .dataframe tbody tr th {\n",
       "        vertical-align: top;\n",
       "    }\n",
       "\n",
       "    .dataframe thead th {\n",
       "        text-align: right;\n",
       "    }\n",
       "</style>\n",
       "<table border=\"1\" class=\"dataframe\">\n",
       "  <thead>\n",
       "    <tr style=\"text-align: right;\">\n",
       "      <th></th>\n",
       "      <th>Match_id</th>\n",
       "      <th>Team_1</th>\n",
       "      <th>Team_2</th>\n",
       "      <th>Venue</th>\n",
       "      <th>Stage</th>\n",
       "      <th>Toss_winner</th>\n",
       "      <th>Toss_decision</th>\n",
       "      <th>Score_of_first_innings</th>\n",
       "      <th>Wkts_in_first_innings</th>\n",
       "      <th>Score_of_second_innings</th>\n",
       "      <th>Wkts_in_second_innings</th>\n",
       "      <th>Winner</th>\n",
       "      <th>Won_by</th>\n",
       "      <th>Player_of_the_match</th>\n",
       "    </tr>\n",
       "  </thead>\n",
       "  <tbody>\n",
       "    <tr>\n",
       "      <th>0</th>\n",
       "      <td>1</td>\n",
       "      <td>Namibia</td>\n",
       "      <td>Sri Lanka</td>\n",
       "      <td>GMHBA Stadium, South Geelong, Victoria</td>\n",
       "      <td>First Round</td>\n",
       "      <td>Sri Lanka</td>\n",
       "      <td>Field</td>\n",
       "      <td>163</td>\n",
       "      <td>7</td>\n",
       "      <td>108</td>\n",
       "      <td>10</td>\n",
       "      <td>Namibia</td>\n",
       "      <td>55 Runs</td>\n",
       "      <td>Jan Frylinck</td>\n",
       "    </tr>\n",
       "    <tr>\n",
       "      <th>1</th>\n",
       "      <td>2</td>\n",
       "      <td>UAE</td>\n",
       "      <td>Netherlands</td>\n",
       "      <td>GMHBA Stadium, South Geelong, Victoria</td>\n",
       "      <td>First Round</td>\n",
       "      <td>UAE</td>\n",
       "      <td>Bat</td>\n",
       "      <td>111</td>\n",
       "      <td>8</td>\n",
       "      <td>112</td>\n",
       "      <td>7</td>\n",
       "      <td>Netherlands</td>\n",
       "      <td>3 Wickets</td>\n",
       "      <td>Bas de Leede</td>\n",
       "    </tr>\n",
       "    <tr>\n",
       "      <th>2</th>\n",
       "      <td>3</td>\n",
       "      <td>Scotland</td>\n",
       "      <td>West Indies</td>\n",
       "      <td>Bellerive Oval, Hobart</td>\n",
       "      <td>First Round</td>\n",
       "      <td>West Indies</td>\n",
       "      <td>Field</td>\n",
       "      <td>160</td>\n",
       "      <td>5</td>\n",
       "      <td>118</td>\n",
       "      <td>10</td>\n",
       "      <td>Scotland</td>\n",
       "      <td>42 Runs</td>\n",
       "      <td>George Munsey</td>\n",
       "    </tr>\n",
       "    <tr>\n",
       "      <th>3</th>\n",
       "      <td>4</td>\n",
       "      <td>Zimbave</td>\n",
       "      <td>Ireland</td>\n",
       "      <td>Bellerive Oval, Hobart</td>\n",
       "      <td>First Round</td>\n",
       "      <td>Ireland</td>\n",
       "      <td>Field</td>\n",
       "      <td>174</td>\n",
       "      <td>7</td>\n",
       "      <td>143</td>\n",
       "      <td>9</td>\n",
       "      <td>Zimbave</td>\n",
       "      <td>31 Runs</td>\n",
       "      <td>Sikandar Raza</td>\n",
       "    </tr>\n",
       "    <tr>\n",
       "      <th>4</th>\n",
       "      <td>5</td>\n",
       "      <td>Namibia</td>\n",
       "      <td>Netherlands</td>\n",
       "      <td>GMHBA Stadium, South Geelong, Victoria</td>\n",
       "      <td>First Round</td>\n",
       "      <td>Namibia</td>\n",
       "      <td>Bat</td>\n",
       "      <td>121</td>\n",
       "      <td>6</td>\n",
       "      <td>122</td>\n",
       "      <td>5</td>\n",
       "      <td>Netherlands</td>\n",
       "      <td>5 Wickets</td>\n",
       "      <td>\\nBas de Leede</td>\n",
       "    </tr>\n",
       "  </tbody>\n",
       "</table>\n",
       "</div>"
      ],
      "text/plain": [
       "   Match_id    Team_1        Team_2                                   Venue  \\\n",
       "0         1   Namibia     Sri Lanka  GMHBA Stadium, South Geelong, Victoria   \n",
       "1         2       UAE  Netherlands   GMHBA Stadium, South Geelong, Victoria   \n",
       "2         3  Scotland   West Indies                  Bellerive Oval, Hobart   \n",
       "3         4   Zimbave       Ireland                  Bellerive Oval, Hobart   \n",
       "4         5   Namibia  Netherlands   GMHBA Stadium, South Geelong, Victoria   \n",
       "\n",
       "         Stage  Toss_winner Toss_decision Score_of_first_innings  \\\n",
       "0  First Round    Sri Lanka         Field                    163   \n",
       "1  First Round          UAE           Bat                    111   \n",
       "2  First Round  West Indies         Field                    160   \n",
       "3  First Round      Ireland         Field                    174   \n",
       "4  First Round      Namibia           Bat                    121   \n",
       "\n",
       "  Wkts_in_first_innings Score_of_second_innings Wkts_in_second_innings  \\\n",
       "0                     7                     108                     10   \n",
       "1                     8                     112                      7   \n",
       "2                     5                     118                     10   \n",
       "3                     7                     143                      9   \n",
       "4                     6                     122                      5   \n",
       "\n",
       "        Winner     Won_by Player_of_the_match  \n",
       "0      Namibia    55 Runs        Jan Frylinck  \n",
       "1  Netherlands  3 Wickets        Bas de Leede  \n",
       "2     Scotland    42 Runs       George Munsey  \n",
       "3      Zimbave    31 Runs       Sikandar Raza  \n",
       "4  Netherlands  5 Wickets      \\nBas de Leede  "
      ]
     },
     "execution_count": 2,
     "metadata": {},
     "output_type": "execute_result"
    }
   ],
   "source": [
    "T20_df=pd.read_csv('T20.csv')\n",
    "T20_df.head()"
   ]
  },
  {
   "cell_type": "code",
   "execution_count": 3,
   "id": "4e82d72c",
   "metadata": {},
   "outputs": [
    {
     "data": {
      "text/plain": [
       "(45, 14)"
      ]
     },
     "execution_count": 3,
     "metadata": {},
     "output_type": "execute_result"
    }
   ],
   "source": [
    "T20_df.shape"
   ]
  },
  {
   "cell_type": "code",
   "execution_count": 4,
   "id": "6d3fb8f2",
   "metadata": {},
   "outputs": [
    {
     "data": {
      "text/html": [
       "<div>\n",
       "<style scoped>\n",
       "    .dataframe tbody tr th:only-of-type {\n",
       "        vertical-align: middle;\n",
       "    }\n",
       "\n",
       "    .dataframe tbody tr th {\n",
       "        vertical-align: top;\n",
       "    }\n",
       "\n",
       "    .dataframe thead th {\n",
       "        text-align: right;\n",
       "    }\n",
       "</style>\n",
       "<table border=\"1\" class=\"dataframe\">\n",
       "  <thead>\n",
       "    <tr style=\"text-align: right;\">\n",
       "      <th></th>\n",
       "      <th>Match_id</th>\n",
       "    </tr>\n",
       "  </thead>\n",
       "  <tbody>\n",
       "    <tr>\n",
       "      <th>count</th>\n",
       "      <td>45.000000</td>\n",
       "    </tr>\n",
       "    <tr>\n",
       "      <th>mean</th>\n",
       "      <td>23.000000</td>\n",
       "    </tr>\n",
       "    <tr>\n",
       "      <th>std</th>\n",
       "      <td>13.133926</td>\n",
       "    </tr>\n",
       "    <tr>\n",
       "      <th>min</th>\n",
       "      <td>1.000000</td>\n",
       "    </tr>\n",
       "    <tr>\n",
       "      <th>25%</th>\n",
       "      <td>12.000000</td>\n",
       "    </tr>\n",
       "    <tr>\n",
       "      <th>50%</th>\n",
       "      <td>23.000000</td>\n",
       "    </tr>\n",
       "    <tr>\n",
       "      <th>75%</th>\n",
       "      <td>34.000000</td>\n",
       "    </tr>\n",
       "    <tr>\n",
       "      <th>max</th>\n",
       "      <td>45.000000</td>\n",
       "    </tr>\n",
       "  </tbody>\n",
       "</table>\n",
       "</div>"
      ],
      "text/plain": [
       "        Match_id\n",
       "count  45.000000\n",
       "mean   23.000000\n",
       "std    13.133926\n",
       "min     1.000000\n",
       "25%    12.000000\n",
       "50%    23.000000\n",
       "75%    34.000000\n",
       "max    45.000000"
      ]
     },
     "execution_count": 4,
     "metadata": {},
     "output_type": "execute_result"
    }
   ],
   "source": [
    "T20_df.describe()"
   ]
  },
  {
   "cell_type": "code",
   "execution_count": 5,
   "id": "3f326ed7",
   "metadata": {},
   "outputs": [
    {
     "name": "stdout",
     "output_type": "stream",
     "text": [
      "<class 'pandas.core.frame.DataFrame'>\n",
      "RangeIndex: 45 entries, 0 to 44\n",
      "Data columns (total 14 columns):\n",
      " #   Column                   Non-Null Count  Dtype \n",
      "---  ------                   --------------  ----- \n",
      " 0   Match_id                 45 non-null     int64 \n",
      " 1   Team_1                   45 non-null     object\n",
      " 2   Team_2                   45 non-null     object\n",
      " 3                Venue       45 non-null     object\n",
      " 4   Stage                    45 non-null     object\n",
      " 5   Toss_winner              45 non-null     object\n",
      " 6   Toss_decision            45 non-null     object\n",
      " 7   Score_of_first_innings   45 non-null     object\n",
      " 8   Wkts_in_first_innings    45 non-null     object\n",
      " 9   Score_of_second_innings  45 non-null     object\n",
      " 10  Wkts_in_second_innings   45 non-null     object\n",
      " 11  Winner                   45 non-null     object\n",
      " 12  Won_by                   45 non-null     object\n",
      " 13  Player_of_the_match      45 non-null     object\n",
      "dtypes: int64(1), object(13)\n",
      "memory usage: 5.0+ KB\n"
     ]
    }
   ],
   "source": [
    "T20_df.info()"
   ]
  },
  {
   "cell_type": "code",
   "execution_count": 6,
   "id": "c4362514",
   "metadata": {},
   "outputs": [
    {
     "data": {
      "text/plain": [
       "Match_id                   0\n",
       "Team_1                     0\n",
       "Team_2                     0\n",
       "             Venue         0\n",
       "Stage                      0\n",
       "Toss_winner                0\n",
       "Toss_decision              0\n",
       "Score_of_first_innings     0\n",
       "Wkts_in_first_innings      0\n",
       "Score_of_second_innings    0\n",
       "Wkts_in_second_innings     0\n",
       "Winner                     0\n",
       "Won_by                     0\n",
       "Player_of_the_match        0\n",
       "dtype: int64"
      ]
     },
     "execution_count": 6,
     "metadata": {},
     "output_type": "execute_result"
    }
   ],
   "source": [
    "T20_df.isnull().sum()"
   ]
  },
  {
   "cell_type": "code",
   "execution_count": 7,
   "id": "8f78b046",
   "metadata": {},
   "outputs": [
    {
     "data": {
      "text/plain": [
       "Index(['Match_id', 'Team_1', 'Team_2', '             Venue', 'Stage',\n",
       "       'Toss_winner', 'Toss_decision', 'Score_of_first_innings',\n",
       "       'Wkts_in_first_innings', 'Score_of_second_innings',\n",
       "       'Wkts_in_second_innings', 'Winner', 'Won_by', 'Player_of_the_match'],\n",
       "      dtype='object')"
      ]
     },
     "execution_count": 7,
     "metadata": {},
     "output_type": "execute_result"
    }
   ],
   "source": [
    "T20_df.columns"
   ]
  },
  {
   "cell_type": "code",
   "execution_count": 39,
   "id": "7e02bc66",
   "metadata": {},
   "outputs": [
    {
     "data": {
      "image/png": "[encoded data removed]",
      "text/plain": [
       "<Figure size 432x288 with 1 Axes>"
      ]
     },
     "metadata": {
      "needs_background": "light"
     },
     "output_type": "display_data"
    }
   ],
   "source": [
    "T20_df.Winner.value_counts().plot.bar()\n",
    "plt.title('Number of matches won by Teams')\n",
    "plt.show()"
   ]
  },
  {
   "cell_type": "markdown",
   "id": "a53a4dc2",
   "metadata": {},
   "source": [
    "At the end of the tournament __England__ is leading by winning five matches overall."
   ]
  },
  {
   "cell_type": "code",
   "execution_count": 9,
   "id": "dcbfc308",
   "metadata": {},
   "outputs": [],
   "source": [
    "T20_df['Won_By']=T20_df.Won_by.apply(lambda  x : x.split(' ')[1])"
   ]
  },
  {
   "cell_type": "code",
   "execution_count": 10,
   "id": "ce9c90e8",
   "metadata": {
    "scrolled": true
   },
   "outputs": [],
   "source": [
    "T20_df['Won_By']=T20_df['Won_By'].map({\"Wickets\":\"Chasing\",\"Runs\":\"Defending\",\"Run\":\"Defending\"})"
   ]
  },
  {
   "cell_type": "code",
   "execution_count": 11,
   "id": "00a25372",
   "metadata": {
    "scrolled": true
   },
   "outputs": [],
   "source": [
    "T20_df['Won_By']=T20_df.Won_By.fillna('Draw')"
   ]
  },
  {
   "cell_type": "code",
   "execution_count": 97,
   "id": "af7f9ee2",
   "metadata": {},
   "outputs": [
    {
     "data": {
      "image/png": "[encoded data removed]",
      "text/plain": [
       "<Figure size 432x288 with 1 Axes>"
      ]
     },
     "metadata": {
      "needs_background": "light"
     },
     "output_type": "display_data"
    }
   ],
   "source": [
    "T20_df.Won_By.value_counts().plot(kind='bar',color='lightgreen')\n",
    "plt.title('Number of matches Won by Defending or Chasing')\n",
    "plt.show()"
   ]
  },
  {
   "cell_type": "markdown",
   "id": "7877d1be",
   "metadata": {},
   "source": [
    "Most Number of Teams won the match by __Defending__"
   ]
  },
  {
   "cell_type": "code",
   "execution_count": 13,
   "id": "c6145f27",
   "metadata": {},
   "outputs": [
    {
     "data": {
      "text/plain": [
       "Bat      25\n",
       "Field    17\n",
       "_         3\n",
       "Name: Toss_decision, dtype: int64"
      ]
     },
     "execution_count": 13,
     "metadata": {},
     "output_type": "execute_result"
    }
   ],
   "source": [
    "T20_df.Toss_decision.value_counts()"
   ]
  },
  {
   "cell_type": "code",
   "execution_count": 14,
   "id": "482e43ef",
   "metadata": {},
   "outputs": [],
   "source": [
    "T20_df['Toss_decision']=T20_df.Toss_decision.apply(lambda x : 'Draw' if x=='_' else x)"
   ]
  },
  {
   "cell_type": "code",
   "execution_count": 15,
   "id": "28b923ec",
   "metadata": {},
   "outputs": [
    {
     "data": {
      "text/plain": [
       "Bat      25\n",
       "Field    17\n",
       "Draw      3\n",
       "Name: Toss_decision, dtype: int64"
      ]
     },
     "execution_count": 15,
     "metadata": {},
     "output_type": "execute_result"
    }
   ],
   "source": [
    "T20_df.Toss_decision.value_counts()"
   ]
  },
  {
   "cell_type": "code",
   "execution_count": 16,
   "id": "c13afb80",
   "metadata": {},
   "outputs": [
    {
     "data": {
      "text/html": [
       "<div>\n",
       "<style scoped>\n",
       "    .dataframe tbody tr th:only-of-type {\n",
       "        vertical-align: middle;\n",
       "    }\n",
       "\n",
       "    .dataframe tbody tr th {\n",
       "        vertical-align: top;\n",
       "    }\n",
       "\n",
       "    .dataframe thead th {\n",
       "        text-align: right;\n",
       "    }\n",
       "</style>\n",
       "<table border=\"1\" class=\"dataframe\">\n",
       "  <thead>\n",
       "    <tr style=\"text-align: right;\">\n",
       "      <th></th>\n",
       "      <th>Match_id</th>\n",
       "      <th>Team_1</th>\n",
       "      <th>Team_2</th>\n",
       "      <th>Venue</th>\n",
       "      <th>Stage</th>\n",
       "      <th>Toss_winner</th>\n",
       "      <th>Toss_decision</th>\n",
       "      <th>Score_of_first_innings</th>\n",
       "      <th>Wkts_in_first_innings</th>\n",
       "      <th>Score_of_second_innings</th>\n",
       "      <th>Wkts_in_second_innings</th>\n",
       "      <th>Winner</th>\n",
       "      <th>Won_by</th>\n",
       "      <th>Player_of_the_match</th>\n",
       "      <th>Won_By</th>\n",
       "    </tr>\n",
       "  </thead>\n",
       "  <tbody>\n",
       "    <tr>\n",
       "      <th>20</th>\n",
       "      <td>21</td>\n",
       "      <td>Afghanistan</td>\n",
       "      <td>New Zealand</td>\n",
       "      <td>Melbourne Cricket Ground, Melbourne</td>\n",
       "      <td>Group</td>\n",
       "      <td>_</td>\n",
       "      <td>Draw</td>\n",
       "      <td>_</td>\n",
       "      <td>_</td>\n",
       "      <td>_</td>\n",
       "      <td>_</td>\n",
       "      <td>No Result</td>\n",
       "      <td>No Result</td>\n",
       "      <td>_</td>\n",
       "      <td>Draw</td>\n",
       "    </tr>\n",
       "    <tr>\n",
       "      <th>24</th>\n",
       "      <td>25</td>\n",
       "      <td>Afghanistan</td>\n",
       "      <td>Ireland</td>\n",
       "      <td>Melbourne Cricket Ground, Melbourne</td>\n",
       "      <td>Group</td>\n",
       "      <td>_</td>\n",
       "      <td>Draw</td>\n",
       "      <td>_</td>\n",
       "      <td>_</td>\n",
       "      <td>_</td>\n",
       "      <td>_</td>\n",
       "      <td>No Result</td>\n",
       "      <td>No Result</td>\n",
       "      <td>_</td>\n",
       "      <td>Draw</td>\n",
       "    </tr>\n",
       "    <tr>\n",
       "      <th>25</th>\n",
       "      <td>26</td>\n",
       "      <td>Australia</td>\n",
       "      <td>England</td>\n",
       "      <td>Melbourne Cricket Ground, Melbourne</td>\n",
       "      <td>Group</td>\n",
       "      <td>_</td>\n",
       "      <td>Draw</td>\n",
       "      <td>_</td>\n",
       "      <td>_</td>\n",
       "      <td>_</td>\n",
       "      <td>_</td>\n",
       "      <td>No Result</td>\n",
       "      <td>No Result</td>\n",
       "      <td>_</td>\n",
       "      <td>Draw</td>\n",
       "    </tr>\n",
       "  </tbody>\n",
       "</table>\n",
       "</div>"
      ],
      "text/plain": [
       "    Match_id       Team_1       Team_2                                Venue  \\\n",
       "20        21  Afghanistan  New Zealand  Melbourne Cricket Ground, Melbourne   \n",
       "24        25  Afghanistan      Ireland  Melbourne Cricket Ground, Melbourne   \n",
       "25        26    Australia      England  Melbourne Cricket Ground, Melbourne   \n",
       "\n",
       "    Stage Toss_winner Toss_decision Score_of_first_innings  \\\n",
       "20  Group           _          Draw                      _   \n",
       "24  Group           _          Draw                      _   \n",
       "25  Group           _          Draw                      _   \n",
       "\n",
       "   Wkts_in_first_innings Score_of_second_innings Wkts_in_second_innings  \\\n",
       "20                     _                       _                      _   \n",
       "24                     _                       _                      _   \n",
       "25                     _                       _                      _   \n",
       "\n",
       "       Winner     Won_by Player_of_the_match Won_By  \n",
       "20  No Result  No Result                   _   Draw  \n",
       "24  No Result  No Result                   _   Draw  \n",
       "25  No Result  No Result                   _   Draw  "
      ]
     },
     "execution_count": 16,
     "metadata": {},
     "output_type": "execute_result"
    }
   ],
   "source": [
    "T20_df[T20_df.Toss_decision=='Draw']"
   ]
  },
  {
   "cell_type": "code",
   "execution_count": 17,
   "id": "2cf0fb05",
   "metadata": {},
   "outputs": [],
   "source": [
    "T20_df['Score_of_first_innings']=T20_df.Score_of_first_innings.apply(lambda x : '0' if x=='_' else x)"
   ]
  },
  {
   "cell_type": "code",
   "execution_count": 18,
   "id": "44c56c96",
   "metadata": {},
   "outputs": [],
   "source": [
    "T20_df['Score_of_first_innings']=T20_df.Score_of_first_innings.astype('int32')"
   ]
  },
  {
   "cell_type": "code",
   "execution_count": 19,
   "id": "231aacbb",
   "metadata": {},
   "outputs": [],
   "source": [
    "T20_df['Score_of_second_innings']=T20_df.Score_of_second_innings.apply(lambda x : '0' if x=='_' else x)"
   ]
  },
  {
   "cell_type": "code",
   "execution_count": 20,
   "id": "b2b4c246",
   "metadata": {},
   "outputs": [],
   "source": [
    "T20_df['Score_of_second_innings']=T20_df.Score_of_second_innings.astype('int32')"
   ]
  },
  {
   "cell_type": "code",
   "execution_count": 21,
   "id": "8c85656f",
   "metadata": {},
   "outputs": [],
   "source": [
    "T20_df['Wkts_in_first_innings']=T20_df.Wkts_in_first_innings.apply(lambda x : '0' if x=='_' else x)"
   ]
  },
  {
   "cell_type": "code",
   "execution_count": 22,
   "id": "47818790",
   "metadata": {},
   "outputs": [],
   "source": [
    "T20_df['Wkts_in_first_innings']=T20_df.Wkts_in_first_innings.astype('int64')"
   ]
  },
  {
   "cell_type": "code",
   "execution_count": 23,
   "id": "a9b465cb",
   "metadata": {},
   "outputs": [],
   "source": [
    "T20_df['Wkts_in_second_innings']=T20_df.Wkts_in_second_innings.apply(lambda x : '0' if x=='_' else x)"
   ]
  },
  {
   "cell_type": "code",
   "execution_count": 24,
   "id": "db025e46",
   "metadata": {},
   "outputs": [],
   "source": [
    "T20_df['Wkts_in_second_innings']=T20_df.Wkts_in_second_innings.astype('int64')"
   ]
  },
  {
   "cell_type": "code",
   "execution_count": 43,
   "id": "a7898bcd",
   "metadata": {},
   "outputs": [
    {
     "data": {
      "image/png": "[encoded data removed]",
      "text/plain": [
       "<Figure size 432x288 with 1 Axes>"
      ]
     },
     "metadata": {},
     "output_type": "display_data"
    }
   ],
   "source": [
    "T20_df['Toss_decision'].value_counts().plot.pie()\n",
    "plt.show()"
   ]
  },
  {
   "cell_type": "markdown",
   "id": "b017444c",
   "metadata": {},
   "source": [
    "In More than __50%__ Matches captains has choosen to __Bat__ after winning Toss"
   ]
  },
  {
   "cell_type": "code",
   "execution_count": 102,
   "id": "20fdb824",
   "metadata": {
    "scrolled": false
   },
   "outputs": [
    {
     "data": {
      "image/png": "[encoded data removed]",
      "text/plain": [
       "<Figure size 1440x720 with 1 Axes>"
      ]
     },
     "metadata": {
      "needs_background": "light"
     },
     "output_type": "display_data"
    }
   ],
   "source": [
    "plt.figure(figsize=[20,10])\n",
    "T20_df['Wkts_in_first_innings'].plot.bar()\n",
    "plt.title('Wickets in First innings')\n",
    "plt.show()"
   ]
  },
  {
   "cell_type": "code",
   "execution_count": 95,
   "id": "3820b945",
   "metadata": {},
   "outputs": [
    {
     "data": {
      "image/png": "[encoded data removed]",
      "text/plain": [
       "<Figure size 1440x720 with 1 Axes>"
      ]
     },
     "metadata": {
      "needs_background": "light"
     },
     "output_type": "display_data"
    }
   ],
   "source": [
    "plt.figure(figsize=[20,10])\n",
    "T20_df['Wkts_in_second_innings'].plot(kind='bar',color='green')\n",
    "plt.title('Wickets in Second innings')\n",
    "plt.show()"
   ]
  },
  {
   "cell_type": "markdown",
   "id": "a9e17784",
   "metadata": {},
   "source": [
    "Obsevation:<br>\n",
    "    The __second Innings__ has Most __All outs__."
   ]
  },
  {
   "cell_type": "code",
   "execution_count": 89,
   "id": "7f1fc5fe",
   "metadata": {},
   "outputs": [
    {
     "data": {
      "image/png": "[encoded data removed]",
      "text/plain": [
       "<Figure size 1440x720 with 1 Axes>"
      ]
     },
     "metadata": {
      "needs_background": "light"
     },
     "output_type": "display_data"
    }
   ],
   "source": [
    "plt.figure(figsize=[20,10])\n",
    "T20_df.Score_of_first_innings.plot(kind='bar',color='lightgreen')\n",
    "plt.title('Runs Scored in First innings')\n",
    "plt.show()"
   ]
  },
  {
   "cell_type": "code",
   "execution_count": 93,
   "id": "427ab546",
   "metadata": {},
   "outputs": [
    {
     "data": {
      "image/png": "[encoded data removed]",
      "text/plain": [
       "<Figure size 1440x720 with 1 Axes>"
      ]
     },
     "metadata": {
      "needs_background": "light"
     },
     "output_type": "display_data"
    }
   ],
   "source": [
    "plt.figure(figsize=[20,10])\n",
    "T20_df.Score_of_second_innings.plot(kind='bar',color='yellow')\n",
    "plt.title('Runs Scored in Second innings')\n",
    "plt.show()"
   ]
  },
  {
   "cell_type": "code",
   "execution_count": 68,
   "id": "3dee0cae",
   "metadata": {},
   "outputs": [
    {
     "data": {
      "image/png": "[encoded data removed]",
      "text/plain": [
       "<Figure size 432x288 with 1 Axes>"
      ]
     },
     "metadata": {
      "needs_background": "light"
     },
     "output_type": "display_data"
    }
   ],
   "source": [
    "T20_dfw=T20_df[T20_df['Toss_winner']==T20_df['Winner']]\n",
    "T20_dfw.Winner.value_counts().plot.bar()\n",
    "plt.title('Teams Won Both Toss and Match')\n",
    "plt.show()"
   ]
  },
  {
   "cell_type": "markdown",
   "id": "43d660b7",
   "metadata": {},
   "source": [
    "__Summary:__<br>\n",
    "    __England__ has won Most Number.<br>\n",
    "    __Highest Score__ in first Innings was 205.<br>\n",
    "    __Lowest score__ in the first Innings was 79.<br>\n",
    "    __Highest Score__ in the Second Innings was 180.<br>\n",
    "    __Lowest Score__ in the Second Innings was 51.<br>\n",
    "    __England__ has Won Both the Toss and the Match for __4__ times.<br>\n",
    "    \n",
    "    "
   ]
  },
  {
   "cell_type": "code",
   "execution_count": null,
   "id": "c63b9ff4",
   "metadata": {},
   "outputs": [],
   "source": []
  }
 ],
 "metadata": {
  "kernelspec": {
   "display_name": "Python 3 (ipykernel)",
   "language": "python",
   "name": "python3"
  },
  "language_info": {
   "codemirror_mode": {
    "name": "ipython",
    "version": 3
   },
   "file_extension": ".py",
   "mimetype": "text/x-python",
   "name": "python",
   "nbconvert_exporter": "python",
   "pygments_lexer": "ipython3",
   "version": "3.9.12"
  }
 },
 "nbformat": 4,
 "nbformat_minor": 5
}
